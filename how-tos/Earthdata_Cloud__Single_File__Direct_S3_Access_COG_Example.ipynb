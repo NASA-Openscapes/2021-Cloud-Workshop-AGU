{
 "cells": [
  {
   "cell_type": "markdown",
   "id": "dominant-denmark",
   "metadata": {},
   "source": [
    "# Accessing Cloud Optimized GeoTIFF (COG) - S3 Direct Access"
   ]
  },
  {
   "cell_type": "markdown",
   "id": "prompt-junction",
   "metadata": {},
   "source": [
    "## Summary\n",
    "\n",
    "Harmonized Landsat Sentinel-2 (HLS) Operational Land Imager Surface Reflectance and TOA Brightness Daily Global 30m v2.0 (L30) ([10.5067/HLS/HLSL30.002](https://doi.org/10.5067/HLS/HLSL30.002))\n",
    "\n",
    "## Requirements\n",
    "\n",
    "AWS intance running in us-west 2\n",
    "\n",
    "Earthdata Login\n",
    "\n",
    ".netrc file\n",
    "\n",
    "## Learning Objectives\n",
    "\n",
    "- S3 Direct Access"
   ]
  },
  {
   "cell_type": "markdown",
   "id": "pursuant-audience",
   "metadata": {},
   "source": [
    "---"
   ]
  },
  {
   "cell_type": "markdown",
   "id": "scientific-dinner",
   "metadata": {},
   "source": [
    "## Cloud Optimized GeoTIFF (COG)\n",
    "\n",
    "Using Harmonized Landsat Sentinel-2 (HLS) version 2.0"
   ]
  },
  {
   "cell_type": "markdown",
   "id": "bizarre-antarctica",
   "metadata": {},
   "source": [
    "### Import Packages"
   ]
  },
  {
   "cell_type": "code",
   "execution_count": null,
   "id": "descending-shooting",
   "metadata": {},
   "outputs": [],
   "source": [
    "import os\n",
    "import requests \n",
    "import boto3\n",
    "from osgeo import gdal\n",
    "import rasterio as rio\n",
    "from rasterio.session import AWSSession\n",
    "import rioxarray\n",
    "import hvplot.xarray\n",
    "import holoviews as hv"
   ]
  },
  {
   "cell_type": "markdown",
   "id": "ancient-following",
   "metadata": {},
   "source": [
    "### Single File S3 Direct Access"
   ]
  },
  {
   "cell_type": "markdown",
   "id": "annoying-wrist",
   "metadata": {},
   "source": [
    "#### Temporary Credentials"
   ]
  },
  {
   "cell_type": "code",
   "execution_count": null,
   "id": "selected-execution",
   "metadata": {},
   "outputs": [],
   "source": [
    "s3_cred_endpoint = {\n",
    "    'podaac':'https://archive.podaac.earthdata.nasa.gov/s3credentials',\n",
    "    'gesdisc': 'https://data.gesdisc.earthdata.nasa.gov/s3credentials',\n",
    "    'lpdaac':'https://data.lpdaac.earthdatacloud.nasa.gov/s3credentials',\n",
    "    'ornldaac': 'https://data.ornldaac.earthdata.nasa.gov/s3credentials',\n",
    "    'ghrcdaac': 'https://data.ghrc.earthdata.nasa.gov/s3credentials'\n",
    "}"
   ]
  },
  {
   "cell_type": "code",
   "execution_count": null,
   "id": "french-winter",
   "metadata": {},
   "outputs": [],
   "source": [
    "def get_temp_creds(provider):\n",
    "    return requests.get(s3_cred_endpoint[provider]).json()"
   ]
  },
  {
   "cell_type": "code",
   "execution_count": null,
   "id": "normal-stone",
   "metadata": {},
   "outputs": [],
   "source": [
    "temp_creds_req = get_temp_creds('lpdaac')\n",
    "#temp_creds_req"
   ]
  },
  {
   "cell_type": "code",
   "execution_count": null,
   "id": "defined-navigator",
   "metadata": {},
   "outputs": [],
   "source": [
    "session = boto3.Session(aws_access_key_id=temp_creds_req['accessKeyId'], \n",
    "                        aws_secret_access_key=temp_creds_req['secretAccessKey'],\n",
    "                        aws_session_token=temp_creds_req['sessionToken'],\n",
    "                        region_name='us-west-2')"
   ]
  },
  {
   "cell_type": "markdown",
   "id": "indoor-integration",
   "metadata": {},
   "source": [
    "**GDAL Configurations**\n",
    "\n",
    "GDAL is a foundational piece of geospatial software that is leveraged by several popular open-source, and closed, geospatial software. The rasterio package is no exception. Rasterio leverages GDAL to, among other things, read and write raster data files, e.g., GeoTIFFs/Cloud Optimized GeoTIFFs. To read remote files, i.e., files/objects stored in the cloud, GDAL uses its Virtual File System API. In a perfect world, one would be able to point a Virtual File System (there are several) at a remote data asset and have the asset retrieved, but that is not always the case. GDAL has a host of configurations/environmental variables that adjust its behavior to, for example, make a request more performant or to pass AWS credentials to the distribution system. Below, we'll identify the evironmental variables that will help us get our data from cloud"
   ]
  },
  {
   "cell_type": "code",
   "execution_count": null,
   "id": "sustainable-tournament",
   "metadata": {},
   "outputs": [],
   "source": [
    "rio_env = rio.Env(AWSSession(session),\n",
    "                  GDAL_DISABLE_READDIR_ON_OPEN='TRUE',\n",
    "                  GDAL_HTTP_COOKIEFILE=os.path.expanduser('~/cookies.txt'),\n",
    "                  GDAL_HTTP_COOKIEJAR=os.path.expanduser('~/cookies.txt'))\n",
    "rio_env.__enter__()"
   ]
  },
  {
   "cell_type": "code",
   "execution_count": null,
   "id": "cultural-breach",
   "metadata": {},
   "outputs": [],
   "source": [
    "s3_url = 's3://lp-prod-protected/HLSL30.020/HLS.L30.T11SQA.2021333T181532.v2.0/HLS.L30.T11SQA.2021333T181532.v2.0.B04.tif'"
   ]
  },
  {
   "cell_type": "code",
   "execution_count": null,
   "id": "tutorial-extent",
   "metadata": {},
   "outputs": [],
   "source": [
    "da = rioxarray.open_rasterio(s3_url)"
   ]
  },
  {
   "cell_type": "code",
   "execution_count": null,
   "id": "blind-surrey",
   "metadata": {},
   "outputs": [],
   "source": [
    "da"
   ]
  },
  {
   "cell_type": "code",
   "execution_count": null,
   "id": "laughing-carolina",
   "metadata": {},
   "outputs": [],
   "source": [
    "da_red = da.squeeze('band', drop=True)\n",
    "da_red"
   ]
  },
  {
   "cell_type": "code",
   "execution_count": null,
   "id": "australian-poster",
   "metadata": {},
   "outputs": [],
   "source": [
    "da_red.hvplot.image(x='x', y='y', cmap='gray', aspect='equal')"
   ]
  },
  {
   "cell_type": "code",
   "execution_count": null,
   "id": "gorgeous-christianity",
   "metadata": {},
   "outputs": [],
   "source": [
    "rio_env.__exit__()"
   ]
  }
 ],
 "metadata": {
  "kernelspec": {
   "display_name": "Python 3 (ipykernel)",
   "language": "python",
   "name": "python3"
  },
  "language_info": {
   "codemirror_mode": {
    "name": "ipython",
    "version": 3
   },
   "file_extension": ".py",
   "mimetype": "text/x-python",
   "name": "python",
   "nbconvert_exporter": "python",
   "pygments_lexer": "ipython3",
   "version": "3.9.7"
  }
 },
 "nbformat": 4,
 "nbformat_minor": 5
}
