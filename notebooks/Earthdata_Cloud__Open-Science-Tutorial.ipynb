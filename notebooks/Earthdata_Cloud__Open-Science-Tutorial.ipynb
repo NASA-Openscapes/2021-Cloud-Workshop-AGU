{
 "cells": [
  {
   "cell_type": "markdown",
   "id": "cb0d5e6a-097a-42ba-90ea-968cd3a678cb",
   "metadata": {},
   "source": [
    "# Open Science in Action Tutorials: \n",
    "\n",
    "## NASA Earthdata Access in the Cloud Using Open-source Libraries\n",
    "\n",
    "### Summary:\n",
    "\n",
    "Abstract for reference:\n",
    "\n",
    "As one of the largest Earth science data repositories, the NASA Earth Observing System Data and Information System (EOSDIS) archives and freely distributes roughly 32 petabytes of satellite, aircraft, and field data, supporting a diverse Earth science user community. These data volumes continue to grow as new, high-resolution remote sensing missions launch in the coming years, requiring new data management approaches to support and reduce barriers to scientific research. To address these needs and advance open science data systems and the data users they support, NASA EOSDIS data and associated discovery and access tools are migrating to the cloud. The EOSDIS Distributed Active Archive Centers (DAACs) are working collaboratively to support researchers as they migrate to a cloud-based data workflow, developing educational materials to teach these new skills using open source programming languages and libraries. This tutorial will walk through some of these new supporting resource materials on how to discover, access, and work with NASA Earthdata in the cloud, highlighting efficient and reproducible pathways to scientific analysis made possible by the cloud and open source technologies.\n",
    "\n",
    "### Objectives:\n",
    "\n",
    "### Acknowledgements:\n",
    "Co-Authors: \n",
    "NASA Openscapes Project: Co-hosted by NASA's PO.DAAC, NSIDC DAAC, LP.DAAC, with support from ASDC DAAC, GES DISC\n",
    "Cloud computing infrastructure by 2i2c\n",
    "\n",
    "---"
   ]
  },
  {
   "cell_type": "markdown",
   "id": "6989acf7-51fe-4222-9b7b-3e2a0153dc71",
   "metadata": {},
   "source": [
    "# Introduction to NASA Earthdata and Cloud migration\n"
   ]
  },
  {
   "cell_type": "markdown",
   "id": "aa72aaff-6dc7-4e1d-b57d-0cfc817bfdfd",
   "metadata": {
    "tags": []
   },
   "source": [
    "Background info on cloud migration, AWS diagrams, etc."
   ]
  },
  {
   "cell_type": "code",
   "execution_count": null,
   "id": "6f8f6f88-91a7-4b9a-901c-4085a3993a20",
   "metadata": {},
   "outputs": [],
   "source": []
  },
  {
   "cell_type": "markdown",
   "id": "b4541474-d4da-4c9d-a8ec-bfe64cfbb9e7",
   "metadata": {},
   "source": [
    "## Tutorial Use Case:\n",
    "\n",
    "### Outline:\n",
    "\n",
    "Combine GeoTIFF and Zarr basic access/usage in the cloud\n",
    "1. Discover data of interest in Earthdata Search (2 datasets)\n",
    "2. S3 access of GeoTIFF\n",
    "3. S3 access of Zarr (via Harmony)\n",
    "4. open/plot\n",
    "\n",
    "* Harmonized Landsat Sentinel-2 (HLS) Operational Land Imager Surface Reflectance and TOA Brightness Daily Global 30m v2.0 (L30) ([10.5067/HLS/HLSL30.002](https://doi.org/10.5067/HLS/HLSL30.002))\n",
    "\n",
    "* Monthly sea surface height from ECCO V4r4 (10.5067/ECG5D-SSH44). The data are provided as a time series of monthly netCDFs on a 0.5-degree latitude/longitude grid. (From NetCDF notebook: We will access the data from inside the AWS cloud (us-west-2 region, specifically) and load a time series made of multiple netCDF datasets into a single xarray dataset. This approach leverages S3 native protocols for efficient access to the data).\n"
   ]
  },
  {
   "cell_type": "markdown",
   "id": "2ce83a51-b6a9-4692-b3db-36aefdfeacf2",
   "metadata": {},
   "source": [
    "## Requirements\n",
    "\n",
    "AWS instance running in us-west 2\n",
    "\n",
    "Earthdata Login\n",
    "\n",
    ".netrc file\n"
   ]
  },
  {
   "cell_type": "markdown",
   "id": "a1424038-9d65-43f6-81d2-5cf1ed5db526",
   "metadata": {},
   "source": [
    "## Earthdata Search exploration to get s3 URLs\n",
    "\n",
    "* Reference other tutorials that demonstrate cmr-stac and cmr access"
   ]
  },
  {
   "cell_type": "markdown",
   "id": "3340ea87-159d-4c89-94eb-ef7a1138976b",
   "metadata": {},
   "source": [
    "## Import packages"
   ]
  },
  {
   "cell_type": "code",
   "execution_count": 15,
   "id": "a31c552d-c8ac-4a48-9edd-1913285a9617",
   "metadata": {},
   "outputs": [],
   "source": [
    "# from COG simple notebook\n",
    "\n",
    "import os\n",
    "import requests \n",
    "import boto3\n",
    "from osgeo import gdal\n",
    "import rasterio as rio\n",
    "from rasterio.session import AWSSession\n",
    "import rioxarray\n",
    "import hvplot.xarray\n",
    "import holoviews as hv"
   ]
  },
  {
   "cell_type": "code",
   "execution_count": 17,
   "id": "0c9f1667-a050-46bb-b1e6-30506f7f0ee2",
   "metadata": {},
   "outputs": [],
   "source": [
    "# from Harmony notebook\n",
    "\n",
    "from harmony import BBox, Client, Collection, Request, LinkType\n",
    "from harmony.config import Environment\n",
    "import requests\n",
    "from pprint import pprint\n",
    "import datetime as dt\n",
    "import s3fs\n",
    "import xarray as xr"
   ]
  },
  {
   "cell_type": "markdown",
   "id": "d5d54034-a694-49fc-a30b-ac49d6f45be5",
   "metadata": {},
   "source": [
    "## S3 access of GeoTIFF\n",
    "\n",
    "* gdal\n",
    "* rioxarray\n",
    "* hvplot "
   ]
  },
  {
   "cell_type": "markdown",
   "id": "4c5a103c-d57c-491c-8c83-17a4a320efe6",
   "metadata": {},
   "source": [
    "## S3 access of Zarr\n",
    "\n",
    "* Harmony\n",
    "* Mention STAC outputs\n",
    "* Zarr\n",
    "* xarray - hvplot "
   ]
  },
  {
   "cell_type": "code",
   "execution_count": null,
   "id": "e9a22547-cde7-4797-b2c4-caea84787cdb",
   "metadata": {},
   "outputs": [],
   "source": []
  }
 ],
 "metadata": {
  "kernelspec": {
   "display_name": "Python 3 (ipykernel)",
   "language": "python",
   "name": "python3"
  },
  "language_info": {
   "codemirror_mode": {
    "name": "ipython",
    "version": 3
   },
   "file_extension": ".py",
   "mimetype": "text/x-python",
   "name": "python",
   "nbconvert_exporter": "python",
   "pygments_lexer": "ipython3",
   "version": "3.9.7"
  }
 },
 "nbformat": 4,
 "nbformat_minor": 5
}
