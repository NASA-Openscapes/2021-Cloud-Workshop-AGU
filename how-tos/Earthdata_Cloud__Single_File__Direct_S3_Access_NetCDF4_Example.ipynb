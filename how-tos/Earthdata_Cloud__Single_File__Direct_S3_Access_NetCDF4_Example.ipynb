{
 "cells": [
  {
   "cell_type": "markdown",
   "id": "blocked-calibration",
   "metadata": {},
   "source": [
    "# Accessing a NetCDF4/HDF5 File - S3 Direct Access"
   ]
  },
  {
   "cell_type": "markdown",
   "id": "positive-copper",
   "metadata": {},
   "source": [
    "## Summary\n",
    "\n",
    "Harmonized Landsat Sentinel-2 (HLS) Operational Land Imager Surface Reflectance and TOA Brightness Daily Global 30m v2.0 (L30) ([10.5067/HLS/HLSL30.002](https://doi.org/10.5067/HLS/HLSL30.002))\n",
    "\n",
    "## Requirements\n",
    "\n",
    "AWS intance running in us-west 2\n",
    "\n",
    "Earthdata Login\n",
    "\n",
    ".netrc file\n",
    "\n",
    "## Learning Objectives\n",
    "\n",
    "- S3 Access"
   ]
  },
  {
   "cell_type": "markdown",
   "id": "found-priority",
   "metadata": {},
   "source": [
    "---"
   ]
  },
  {
   "cell_type": "markdown",
   "id": "exclusive-domestic",
   "metadata": {},
   "source": [
    "## Import Packages"
   ]
  },
  {
   "cell_type": "code",
   "execution_count": null,
   "id": "indian-difference",
   "metadata": {},
   "outputs": [],
   "source": [
    "%matplotlib inline\n",
    "import matplotlib.pyplot as plt\n",
    "import os\n",
    "import requests\n",
    "import s3fs\n",
    "from osgeo import gdal\n",
    "import xarray as xr\n",
    "import hvplot.xarray\n",
    "import holoviews as hv"
   ]
  },
  {
   "cell_type": "markdown",
   "id": "systematic-counter",
   "metadata": {},
   "source": [
    "## Single File S3 Direct Access"
   ]
  },
  {
   "cell_type": "markdown",
   "id": "phantom-nurse",
   "metadata": {},
   "source": [
    "### Temporary Credentials"
   ]
  },
  {
   "cell_type": "code",
   "execution_count": null,
   "id": "copyrighted-python",
   "metadata": {},
   "outputs": [],
   "source": [
    "s3_cred_endpoint = {\n",
    "    'podaac':'https://archive.podaac.earthdata.nasa.gov/s3credentials',\n",
    "    'gesdisc': 'https://data.gesdisc.earthdata.nasa.gov/s3credentials',\n",
    "    'lpdaac':'https://data.lpdaac.earthdatacloud.nasa.gov/s3credentials',\n",
    "    'ornldaac': 'https://data.ornldaac.earthdata.nasa.gov/s3credentials',\n",
    "    'ghrcdaac': 'https://data.ghrc.earthdata.nasa.gov/s3credentials'\n",
    "}"
   ]
  },
  {
   "cell_type": "code",
   "execution_count": null,
   "id": "vocational-biotechnology",
   "metadata": {},
   "outputs": [],
   "source": [
    "def get_temp_creds(provider):\n",
    "    return requests.get(s3_cred_endpoint[provider]).json()"
   ]
  },
  {
   "cell_type": "code",
   "execution_count": null,
   "id": "sapphire-therapy",
   "metadata": {},
   "outputs": [],
   "source": [
    "temp_creds_req = get_temp_creds('podaac')\n",
    "#temp_creds_req"
   ]
  },
  {
   "cell_type": "code",
   "execution_count": null,
   "id": "cross-occasions",
   "metadata": {},
   "outputs": [],
   "source": [
    "fs_s3 = s3fs.S3FileSystem(anon=False, \n",
    "                          key=temp_creds_req['accessKeyId'], \n",
    "                          secret=temp_creds_req['secretAccessKey'], \n",
    "                          token=temp_creds_req['sessionToken'])"
   ]
  },
  {
   "cell_type": "code",
   "execution_count": null,
   "id": "postal-renewal",
   "metadata": {},
   "outputs": [],
   "source": [
    "s3_url = 's3://podaac-ops-cumulus-protected/ECCO_L4_SSH_05DEG_MONTHLY_V4R4/SEA_SURFACE_HEIGHT_mon_mean_2015-01_ECCO_V4r4_latlon_0p50deg.nc'"
   ]
  },
  {
   "cell_type": "code",
   "execution_count": null,
   "id": "loving-boost",
   "metadata": {},
   "outputs": [],
   "source": [
    "s3_file_obj = fs_s3.open(s3_url, mode='rb')"
   ]
  },
  {
   "cell_type": "code",
   "execution_count": null,
   "id": "wired-sequence",
   "metadata": {},
   "outputs": [],
   "source": [
    "ssh_ds = xr.open_dataset(s3_file_obj, engine='h5netcdf')\n",
    "ssh_ds"
   ]
  },
  {
   "cell_type": "code",
   "execution_count": null,
   "id": "compound-uganda",
   "metadata": {},
   "outputs": [],
   "source": [
    "ssh_ds.SSH.hvplot.image(x='longitude', y='latitude', cmap='Spectral_r', aspect='equal')"
   ]
  }
 ],
 "metadata": {
  "kernelspec": {
   "display_name": "py39",
   "language": "python",
   "name": "py39"
  },
  "language_info": {
   "codemirror_mode": {
    "name": "ipython",
    "version": 3
   },
   "file_extension": ".py",
   "mimetype": "text/x-python",
   "name": "python",
   "nbconvert_exporter": "python",
   "pygments_lexer": "ipython3",
   "version": "3.9.7"
  }
 },
 "nbformat": 4,
 "nbformat_minor": 5
}
