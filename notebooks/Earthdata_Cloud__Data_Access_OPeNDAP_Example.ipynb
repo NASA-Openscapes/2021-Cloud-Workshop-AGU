{
 "cells": [
  {
   "cell_type": "markdown",
   "id": "64022e32-a6be-4db0-ba30-af3bfc0a56c3",
   "metadata": {},
   "source": [
    "# Using OPeNDAP to Access Data from On-Prem and Earthdata Cloud Archives"
   ]
  },
  {
   "cell_type": "markdown",
   "id": "4daf38bc-1370-4daa-8586-010997bb5cab",
   "metadata": {},
   "source": [
    "- OPeNDAP\n",
    "    - On-prem Endpoint\n",
    "    - Earthdata Cloud Endpoint"
   ]
  },
  {
   "cell_type": "markdown",
   "id": "5d81d620-7f69-47e7-9010-4529e11b4034",
   "metadata": {},
   "source": [
    "---"
   ]
  },
  {
   "cell_type": "markdown",
   "id": "6f6a26f4-5f2d-49c5-b896-e9b409af3ffb",
   "metadata": {},
   "source": [
    "### Import Packages"
   ]
  }
 ],
 "metadata": {
  "kernelspec": {
   "display_name": "Python 3 (ipykernel)",
   "language": "python",
   "name": "python3"
  },
  "language_info": {
   "codemirror_mode": {
    "name": "ipython",
    "version": 3
   },
   "file_extension": ".py",
   "mimetype": "text/x-python",
   "name": "python",
   "nbconvert_exporter": "python",
   "pygments_lexer": "ipython3",
   "version": "3.9.7"
  }
 },
 "nbformat": 4,
 "nbformat_minor": 5
}
