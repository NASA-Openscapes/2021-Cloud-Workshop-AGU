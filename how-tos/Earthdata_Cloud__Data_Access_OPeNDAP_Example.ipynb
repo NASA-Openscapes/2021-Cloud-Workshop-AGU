{
 "cells": [
  {
   "cell_type": "markdown",
   "id": "afraid-longitude",
   "metadata": {},
   "source": [
    "# Using OPeNDAP to Access Data from On-Prem and Earthdata Cloud Archives"
   ]
  },
  {
   "cell_type": "markdown",
   "id": "turned-indiana",
   "metadata": {},
   "source": [
    "Requirements\n",
    "Earthdata Login\n",
    "\n",
    "\n",
    "\n",
    "- OPeNDAP (Hyrax Server)\n",
    "    - On-prem Endpoint - Open\n",
    "    - On-prem Endpoint - Earthdata Login Authentication\n",
    "    - Earthdata Cloud Endpoint - Earthdata Login Authentication"
   ]
  },
  {
   "cell_type": "markdown",
   "id": "secondary-brunei",
   "metadata": {},
   "source": [
    "---"
   ]
  },
  {
   "cell_type": "markdown",
   "id": "baking-petersburg",
   "metadata": {},
   "source": [
    "## Import Packages"
   ]
  },
  {
   "cell_type": "code",
   "execution_count": null,
   "id": "sacred-quantum",
   "metadata": {},
   "outputs": [],
   "source": [
    "import xarray as xr\n",
    "import dask\n",
    "import hvplot.xarray"
   ]
  },
  {
   "cell_type": "markdown",
   "id": "raising-vampire",
   "metadata": {},
   "source": [
    "## Access On-prem OPeNDAP (Hyrax Server) - Open"
   ]
  },
  {
   "cell_type": "code",
   "execution_count": null,
   "id": "awful-offense",
   "metadata": {},
   "outputs": [],
   "source": [
    "opd_sst_url = 'https://podaac-opendap.jpl.nasa.gov/opendap/allData/ghrsst/data/GDS2/L4/GLOB/NCEI/AVHRR_OI/v2/1981/244/19810901120000-NCEI-L4_GHRSST-SSTblend-AVHRR_OI-GLOB-v02.0-fv02.0.nc'"
   ]
  },
  {
   "cell_type": "code",
   "execution_count": null,
   "id": "instant-heritage",
   "metadata": {},
   "outputs": [],
   "source": [
    "opd_sst_ds = xr.open_dataset(opd_sst_url)\n",
    "opd_sst_ds"
   ]
  },
  {
   "cell_type": "code",
   "execution_count": null,
   "id": "understanding-swiss",
   "metadata": {},
   "outputs": [],
   "source": [
    "opd_sst_ds.analysed_sst.isel(time=0).hvplot.image(cmap='Inferno')"
   ]
  },
  {
   "cell_type": "markdown",
   "id": "alive-google",
   "metadata": {},
   "source": [
    "## Access On-prem OPeNDAP (Hyrax Server) - Authentication "
   ]
  },
  {
   "cell_type": "code",
   "execution_count": null,
   "id": "personal-vector",
   "metadata": {},
   "outputs": [],
   "source": [
    "import opendap_auth"
   ]
  },
  {
   "cell_type": "code",
   "execution_count": null,
   "id": "finnish-chance",
   "metadata": {},
   "outputs": [],
   "source": [
    "opendap_auth.create_dodsrc()"
   ]
  },
  {
   "cell_type": "markdown",
   "id": "c760f920-3d2d-4bc7-b78c-b6eac0db2664",
   "metadata": {},
   "source": [
    "Integrated Multi-satellitE Retrievals for GPM (IMERG) Level 3 IMERG *Final* Daily 10 x 10 km (GPM_3IMERGDF) "
   ]
  },
  {
   "cell_type": "code",
   "execution_count": null,
   "id": "baeb85f6-74dc-40ff-a310-5928fdddc412",
   "metadata": {},
   "outputs": [],
   "source": [
    "opd_prec_url = 'https://gpm1.gesdisc.eosdis.nasa.gov/opendap/GPM_L3/GPM_3IMERGDF.06/2021/07/3B-DAY.MS.MRG.3IMERG.20210704-S000000-E235959.V06.nc4' "
   ]
  },
  {
   "cell_type": "code",
   "execution_count": null,
   "id": "sensitive-assignment",
   "metadata": {
    "tags": []
   },
   "outputs": [],
   "source": [
    "opd_prec_ds = xr.open_dataset(opd_prec_url)\n",
    "opd_prec_ds"
   ]
  },
  {
   "cell_type": "code",
   "execution_count": null,
   "id": "1854361a-74a8-4371-b89a-8a3ea0f7c8c2",
   "metadata": {},
   "outputs": [],
   "source": [
    "opd_prec_ds.precipitationCal.isel(time=0).hvplot.image(cmap='rainbow')"
   ]
  },
  {
   "cell_type": "markdown",
   "id": "87d2ac32-0f38-45f9-ad2a-360e1d66afd0",
   "metadata": {},
   "source": [
    "## Access Earthdata cloud OPeNDAP (Hyrax Server) - Authentication "
   ]
  },
  {
   "cell_type": "code",
   "execution_count": null,
   "id": "1c2c4adb-9701-4381-a46c-cec72ee085d3",
   "metadata": {},
   "outputs": [],
   "source": [
    "edc_odp_ssh_url = 'https://opendap.earthdata.nasa.gov/providers/POCLOUD/collections/ECCO%20Sea%20Surface%20Height%20-%20Daily%20Mean%200.5%20Degree%20(Version%204%20Release%204)/granules/SEA_SURFACE_HEIGHT_day_mean_1992-01-01_ECCO_V4r4_latlon_0p50deg.dap.nc'"
   ]
  },
  {
   "cell_type": "code",
   "execution_count": null,
   "id": "5197754f-0f16-4018-b0dd-37f4306595df",
   "metadata": {},
   "outputs": [],
   "source": [
    "edc_odp_ssh_ds = xr.open_dataset(edc_odp_ssh_url)\n",
    "edc_odp_ssh_ds"
   ]
  },
  {
   "cell_type": "code",
   "execution_count": null,
   "id": "13212cb2-4285-49cf-81b5-722313d2cca9",
   "metadata": {},
   "outputs": [],
   "source": [
    "url = 'https://opendap.earthdata.nasa.gov/providers/POCLOUD/collections/GHRSST%20Level%204%20MUR%20Global%20Foundation%20Sea%20Surface%20Temperature%20Analysis%20(v4.1)/granules/20190201090000-JPL-L4_GHRSST-SSTfnd-MUR-GLOB-v02.0-fv04.1.dap.nc4'"
   ]
  },
  {
   "cell_type": "code",
   "execution_count": null,
   "id": "33ad764a-bd73-4249-a5b2-937750d45f8e",
   "metadata": {},
   "outputs": [],
   "source": [
    "xr.open_dataset(url)"
   ]
  },
  {
   "cell_type": "code",
   "execution_count": null,
   "id": "be068ee2-f3f7-44fa-ad30-5975dcb550e7",
   "metadata": {},
   "outputs": [],
   "source": [
    "url = 'https://opendap.earthdata.nasa.gov/collections/C1968980576-POCLOUD/granules/S6A_P4_2__LR_RED__NR_025_001_20210713T162644_20210713T182234_F02.nc4'"
   ]
  },
  {
   "cell_type": "code",
   "execution_count": null,
   "id": "f3895dfd-3d64-4158-8b3e-98e627537f90",
   "metadata": {},
   "outputs": [],
   "source": [
    "xr.open_dataset(url)"
   ]
  },
  {
   "cell_type": "code",
   "execution_count": null,
   "id": "663bdca7-16be-4e07-b3fd-ee53df82298d",
   "metadata": {},
   "outputs": [],
   "source": [
    "url = 'https://opendap.earthdata.nasa.gov/providers/POCLOUD/collections/ECCO%20Sea%20Surface%20Height%20-%20Daily%20Mean%200.5%20Degree%20(Version%204%20Release%204)/granules/SEA_SURFACE_HEIGHT_day_mean_1992-01-01_ECCO_V4r4_latlon_0p50deg.dap.nc4'"
   ]
  },
  {
   "cell_type": "code",
   "execution_count": null,
   "id": "f55640bc-58cc-4ce8-995a-259c90f259e5",
   "metadata": {},
   "outputs": [],
   "source": [
    "xr.open_dataset(url)"
   ]
  },
  {
   "cell_type": "code",
   "execution_count": null,
   "id": "dac930fc-a4bb-4096-b0de-2b5ca8fe245a",
   "metadata": {},
   "outputs": [],
   "source": []
  }
 ],
 "metadata": {
  "kernelspec": {
   "display_name": "Python 3 (ipykernel)",
   "language": "python",
   "name": "python3"
  },
  "language_info": {
   "codemirror_mode": {
    "name": "ipython",
    "version": 3
   },
   "file_extension": ".py",
   "mimetype": "text/x-python",
   "name": "python",
   "nbconvert_exporter": "python",
   "pygments_lexer": "ipython3",
   "version": "3.9.7"
  }
 },
 "nbformat": 4,
 "nbformat_minor": 5
}
