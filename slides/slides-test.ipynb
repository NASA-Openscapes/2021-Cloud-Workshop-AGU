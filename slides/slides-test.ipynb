{
 "cells": [
  {
   "cell_type": "raw",
   "id": "7901fd5a-0415-4112-8af6-8c1c9a006fe9",
   "metadata": {},
   "source": [
    "---\n",
    "title: \"test pres\"\n",
    "format: revealjs\n",
    "---"
   ]
  },
  {
   "cell_type": "markdown",
   "id": "050fbd42-d2b0-44bc-8c84-a6a9170a6a77",
   "metadata": {},
   "source": [
    "## Slide 1"
   ]
  },
  {
   "cell_type": "markdown",
   "id": "2dc6e138-1e00-4186-a9b8-7840b92dbb09",
   "metadata": {},
   "source": [
    "Some descriptive text"
   ]
  },
  {
   "cell_type": "code",
   "execution_count": 1,
   "id": "562f13ac-4e2d-48b3-ac6d-ac726edb6da6",
   "metadata": {},
   "outputs": [
    {
     "data": {
      "text/plain": [
       "6"
      ]
     },
     "execution_count": 1,
     "metadata": {},
     "output_type": "execute_result"
    }
   ],
   "source": [
    "1+5"
   ]
  },
  {
   "cell_type": "markdown",
   "id": "dd079b3c-b1d7-4482-9a46-e0caadbc0d89",
   "metadata": {},
   "source": [
    "## Slide 2"
   ]
  },
  {
   "cell_type": "markdown",
   "id": "f793d062-c340-441f-ac4f-d7519e4030e4",
   "metadata": {},
   "source": [
    "More description for this slide"
   ]
  },
  {
   "cell_type": "code",
   "execution_count": 2,
   "id": "200d273f-e7dc-4b3c-ba90-c3585e21d94f",
   "metadata": {},
   "outputs": [
    {
     "data": {
      "text/plain": [
       "6"
      ]
     },
     "execution_count": 2,
     "metadata": {},
     "output_type": "execute_result"
    }
   ],
   "source": [
    "#| echo: true\n",
    "2*3"
   ]
  },
  {
   "cell_type": "code",
   "execution_count": null,
   "id": "785bfb06-9960-4f8f-a369-df929fb5f46c",
   "metadata": {},
   "outputs": [],
   "source": []
  }
 ],
 "metadata": {
  "kernelspec": {
   "display_name": "Python 3 (ipykernel)",
   "language": "python",
   "name": "python3"
  },
  "language_info": {
   "codemirror_mode": {
    "name": "ipython",
    "version": 3
   },
   "file_extension": ".py",
   "mimetype": "text/x-python",
   "name": "python",
   "nbconvert_exporter": "python",
   "pygments_lexer": "ipython3",
   "version": "3.9.7"
  }
 },
 "nbformat": 4,
 "nbformat_minor": 5
}
