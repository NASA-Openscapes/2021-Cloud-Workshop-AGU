{
 "cells": [
  {
   "cell_type": "raw",
   "id": "7901fd5a-0415-4112-8af6-8c1c9a006fe9",
   "metadata": {},
   "source": [
    "---\n",
    "title: \"test pres\"\n",
    "format: revealjs\n",
    "---"
   ]
  },
  {
   "cell_type": "markdown",
   "id": "050fbd42-d2b0-44bc-8c84-a6a9170a6a77",
   "metadata": {},
   "source": [
    "## Slide 1"
   ]
  },
  {
   "cell_type": "code",
   "execution_count": null,
   "id": "77ac4c96-93fd-4168-8cb2-e1c0293f8653",
   "metadata": {},
   "outputs": [],
   "source": []
  }
 ],
 "metadata": {
  "kernelspec": {
   "display_name": "Python 3 (ipykernel)",
   "language": "python",
   "name": "python3"
  },
  "language_info": {
   "codemirror_mode": {
    "name": "ipython",
    "version": 3
   },
   "file_extension": ".py",
   "mimetype": "text/x-python",
   "name": "python",
   "nbconvert_exporter": "python",
   "pygments_lexer": "ipython3",
   "version": "3.9.7"
  }
 },
 "nbformat": 4,
 "nbformat_minor": 5
}
