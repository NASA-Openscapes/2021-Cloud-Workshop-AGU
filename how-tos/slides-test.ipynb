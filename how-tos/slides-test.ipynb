{
 "cells": [
  {
   "cell_type": "raw",
   "id": "7901fd5a-0415-4112-8af6-8c1c9a006fe9",
   "metadata": {},
   "source": [
    "---\n",
    "title: \"test presentation\"\n",
    "format: revealjs\n",
    "---"
   ]
  },
  {
   "cell_type": "markdown",
   "id": "050fbd42-d2b0-44bc-8c84-a6a9170a6a77",
   "metadata": {},
   "source": [
    "## Slide 1"
   ]
  },
  {
   "cell_type": "markdown",
   "id": "a2054a5d-d2dd-4b2d-8e9d-973f60d582d9",
   "metadata": {},
   "source": [
    "Here is some descriptive text"
   ]
  },
  {
   "cell_type": "code",
   "execution_count": 1,
   "id": "0a3780b4-280e-4967-a4e6-dff291244637",
   "metadata": {},
   "outputs": [
    {
     "data": {
      "text/plain": [
       "6"
      ]
     },
     "execution_count": 1,
     "metadata": {},
     "output_type": "execute_result"
    }
   ],
   "source": [
    "1+5"
   ]
  },
  {
   "cell_type": "markdown",
   "id": "9afc8a54-ee89-4701-a288-6fcb4f9a3773",
   "metadata": {},
   "source": [
    "## Slide 2"
   ]
  },
  {
   "cell_type": "markdown",
   "id": "79d5ce5f-f67b-4dfb-8918-93db8152b9a5",
   "metadata": {},
   "source": [
    "More things"
   ]
  },
  {
   "cell_type": "code",
   "execution_count": 2,
   "id": "d8a2fe7e-41ca-492a-a2fd-d72be03b6954",
   "metadata": {},
   "outputs": [
    {
     "data": {
      "text/plain": [
       "6"
      ]
     },
     "execution_count": 2,
     "metadata": {},
     "output_type": "execute_result"
    }
   ],
   "source": [
    "#| echo: true\n",
    "2*3"
   ]
  },
  {
   "cell_type": "code",
   "execution_count": null,
   "id": "9f7fcd39-02ef-42ce-bb6c-5cabddb81346",
   "metadata": {},
   "outputs": [],
   "source": []
  }
 ],
 "metadata": {
  "kernelspec": {
   "display_name": "Python 3 (ipykernel)",
   "language": "python",
   "name": "python3"
  },
  "language_info": {
   "codemirror_mode": {
    "name": "ipython",
    "version": 3
   },
   "file_extension": ".py",
   "mimetype": "text/x-python",
   "name": "python",
   "nbconvert_exporter": "python",
   "pygments_lexer": "ipython3",
   "version": "3.9.7"
  }
 },
 "nbformat": 4,
 "nbformat_minor": 5
}
