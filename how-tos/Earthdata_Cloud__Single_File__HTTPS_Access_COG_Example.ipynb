{
 "cells": [
  {
   "cell_type": "markdown",
   "id": "fresh-natural",
   "metadata": {},
   "source": [
    "# Accessing Cloud Optimized GeoTIFF (COG) - HTTPS Example"
   ]
  },
  {
   "cell_type": "markdown",
   "id": "persistent-death",
   "metadata": {},
   "source": [
    "## Summary\n",
    "\n",
    "Harmonized Landsat Sentinel-2 (HLS) Operational Land Imager Surface Reflectance and TOA Brightness Daily Global 30m v2.0 (L30) ([10.5067/HLS/HLSL30.002](https://doi.org/10.5067/HLS/HLSL30.002))\n",
    "\n",
    "## Requirements\n",
    "\n",
    "AWS intance running in us-west 2\n",
    "\n",
    "Earthdata Login\n",
    "\n",
    ".netrc file\n",
    "\n",
    "## Learning Objectives\n",
    "\n",
    "- HTTPS Access"
   ]
  },
  {
   "cell_type": "markdown",
   "id": "completed-creek",
   "metadata": {},
   "source": [
    "---"
   ]
  },
  {
   "cell_type": "markdown",
   "id": "institutional-given",
   "metadata": {},
   "source": [
    "## Cloud Optimized GeoTIFF (COG)\n",
    "\n",
    "Using Harmonized Landsat Sentinel-2 (HLS) version 2.0"
   ]
  },
  {
   "cell_type": "markdown",
   "id": "usual-disabled",
   "metadata": {},
   "source": [
    "### Import Packages"
   ]
  },
  {
   "cell_type": "code",
   "execution_count": null,
   "id": "boolean-horse",
   "metadata": {},
   "outputs": [],
   "source": [
    "import os\n",
    "from osgeo import gdal\n",
    "import rasterio as rio\n",
    "import rioxarray\n",
    "import hvplot.xarray\n",
    "import holoviews as hv"
   ]
  },
  {
   "cell_type": "markdown",
   "id": "pacific-trauma",
   "metadata": {},
   "source": [
    "### Single File HTTPS Access"
   ]
  },
  {
   "cell_type": "markdown",
   "id": "furnished-orlando",
   "metadata": {},
   "source": [
    "#### Workspace Environment Setup \n",
    "\n",
    "\n",
    "**GDAL Configurations**\n",
    "\n",
    "GDAL is a foundational piece of geospatial software that is leveraged by several popular open-source, and closed, geospatial software. The rasterio package is no exception. Rasterio leverages GDAL to, among other things, read and write raster data files, e.g., GeoTIFFs/Cloud Optimized GeoTIFFs. To read remote files, i.e., files/objects stored in the cloud, GDAL uses its Virtual File System API. In a perfect world, one would be able to point a Virtual File System (there are several) at a remote data asset and have the asset retrieved, but that is not always the case. GDAL has a host of configurations/environmental variables that adjust its behavior to, for example, make a request more performant or to pass AWS credentials to the distribution system. Below, we'll identify the evironmental variables that will help us get our data from cloud"
   ]
  },
  {
   "cell_type": "code",
   "execution_count": null,
   "id": "developing-danish",
   "metadata": {},
   "outputs": [],
   "source": [
    "rio_env = rio.Env(GDAL_DISABLE_READDIR_ON_OPEN='TRUE',\n",
    "                  GDAL_HTTP_COOKIEFILE=os.path.expanduser('~/cookies.txt'),\n",
    "                  GDAL_HTTP_COOKIEJAR=os.path.expanduser('~/cookies.txt'))\n",
    "rio_env.__enter__()"
   ]
  },
  {
   "cell_type": "markdown",
   "id": "expired-crowd",
   "metadata": {},
   "source": [
    "Specify the HTTPS path to the cloud asset."
   ]
  },
  {
   "cell_type": "code",
   "execution_count": null,
   "id": "gorgeous-relief",
   "metadata": {},
   "outputs": [],
   "source": [
    "https_url = 'https://data.lpdaac.earthdatacloud.nasa.gov/lp-prod-protected/HLSL30.020/HLS.L30.T11SQA.2021333T181532.v2.0/HLS.L30.T11SQA.2021333T181532.v2.0.B04.tif'"
   ]
  },
  {
   "cell_type": "markdown",
   "id": "fabulous-cornell",
   "metadata": {},
   "source": [
    "Use the `rioxarray.open_rasterio` function to open the cloud asset into the workspace."
   ]
  },
  {
   "cell_type": "code",
   "execution_count": null,
   "id": "blocked-municipality",
   "metadata": {},
   "outputs": [],
   "source": [
    "da = rioxarray.open_rasterio(https_url)"
   ]
  },
  {
   "cell_type": "markdown",
   "id": "african-acting",
   "metadata": {},
   "source": [
    "Print the `xarray` `DataArray` object. Notice the dimisions at the top, e.i., **band**, **y**, and **x**. <TODO: Add more>"
   ]
  },
  {
   "cell_type": "code",
   "execution_count": null,
   "id": "deluxe-elizabeth",
   "metadata": {},
   "outputs": [],
   "source": [
    "da"
   ]
  },
  {
   "cell_type": "markdown",
   "id": "athletic-characteristic",
   "metadata": {},
   "source": [
    "To remove the band dimension/coordinate use the `squeeze` method."
   ]
  },
  {
   "cell_type": "code",
   "execution_count": null,
   "id": "vocal-center",
   "metadata": {},
   "outputs": [],
   "source": [
    "da_red = da.squeeze('band', drop=True)\n",
    "da_red"
   ]
  },
  {
   "cell_type": "code",
   "execution_count": null,
   "id": "outdoor-handling",
   "metadata": {},
   "outputs": [],
   "source": [
    "da_red.hvplot.image(x='x', y='y', cmap='gray', aspect='equal')"
   ]
  },
  {
   "cell_type": "code",
   "execution_count": null,
   "id": "fitting-liechtenstein",
   "metadata": {},
   "outputs": [],
   "source": [
    "rio_env.__exit__()"
   ]
  }
 ],
 "metadata": {
  "kernelspec": {
   "display_name": "Python 3 (ipykernel)",
   "language": "python",
   "name": "python3"
  },
  "language_info": {
   "codemirror_mode": {
    "name": "ipython",
    "version": 3
   },
   "file_extension": ".py",
   "mimetype": "text/x-python",
   "name": "python",
   "nbconvert_exporter": "python",
   "pygments_lexer": "ipython3",
   "version": "3.9.7"
  }
 },
 "nbformat": 4,
 "nbformat_minor": 5
}
